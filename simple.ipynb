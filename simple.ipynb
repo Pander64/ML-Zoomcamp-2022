{
 "cells": [
  {
   "cell_type": "markdown",
   "id": "8a77807f92f26ee",
   "metadata": {},
   "source": [
    "# Jupyter notebook sample"
   ]
  },
  {
   "cell_type": "code",
   "execution_count": 1,
   "id": "7e11dc878a912d04",
   "metadata": {
    "ExecuteTime": {
     "end_time": "2024-09-30T03:03:35.865103Z",
     "start_time": "2024-09-30T03:03:29.327541Z"
    }
   },
   "outputs": [
    {
     "name": "stdout",
     "output_type": "stream",
     "text": [
      "Requirement already satisfied: numexpr in /Users/alexanderbarroso/opt/anaconda3/envs/ml-zoomcamp/lib/python3.9/site-packages (2.8.3)\r\n",
      "Collecting numexpr\r\n",
      "  Downloading numexpr-2.10.1-cp39-cp39-macosx_10_9_x86_64.whl (141 kB)\r\n",
      "\u001b[2K     \u001b[90m━━━━━━━━━━━━━━━━━━━━━━━━━━━━━━━━━━━━━━━\u001b[0m \u001b[32m141.4/141.4 kB\u001b[0m \u001b[31m1.0 MB/s\u001b[0m eta \u001b[36m0:00:00\u001b[0ma \u001b[36m0:00:01\u001b[0m\r\n",
      "\u001b[?25hRequirement already satisfied: bottleneck in /Users/alexanderbarroso/opt/anaconda3/envs/ml-zoomcamp/lib/python3.9/site-packages (1.3.5)\r\n",
      "Collecting bottleneck\r\n",
      "  Using cached Bottleneck-1.4.0-cp39-cp39-macosx_10_9_x86_64.whl\r\n",
      "Collecting numpy>=1.23.0\r\n",
      "  Downloading numpy-2.0.2-cp39-cp39-macosx_10_9_x86_64.whl (21.2 MB)\r\n",
      "\u001b[2K     \u001b[90m━━━━━━━━━━━━━━━━━━━━━━━━━━━━━━━━━━━━━━━━\u001b[0m \u001b[32m21.2/21.2 MB\u001b[0m \u001b[31m20.7 MB/s\u001b[0m eta \u001b[36m0:00:00\u001b[0m00:01\u001b[0m00:01\u001b[0m\r\n",
      "\u001b[?25hInstalling collected packages: numpy, numexpr, bottleneck\r\n",
      "  Attempting uninstall: numpy\r\n",
      "    Found existing installation: numpy 1.21.5\r\n",
      "    Uninstalling numpy-1.21.5:\r\n",
      "      Successfully uninstalled numpy-1.21.5\r\n",
      "  Attempting uninstall: numexpr\r\n",
      "    Found existing installation: numexpr 2.8.3\r\n",
      "    Uninstalling numexpr-2.8.3:\r\n",
      "      Successfully uninstalled numexpr-2.8.3\r\n",
      "  Attempting uninstall: bottleneck\r\n",
      "    Found existing installation: Bottleneck 1.3.5\r\n",
      "    Uninstalling Bottleneck-1.3.5:\r\n",
      "      Successfully uninstalled Bottleneck-1.3.5\r\n",
      "\u001b[31mERROR: pip's dependency resolver does not currently take into account all the packages that are installed. This behaviour is the source of the following dependency conflicts.\r\n",
      "scipy 1.7.3 requires numpy<1.23.0,>=1.16.5, but you have numpy 2.0.2 which is incompatible.\u001b[0m\u001b[31m\r\n",
      "\u001b[0mSuccessfully installed bottleneck-1.4.0 numexpr-2.10.1 numpy-2.0.2\r\n"
     ]
    }
   ],
   "source": [
    "!pip install --upgrade numexpr bottleneck\n"
   ]
  },
  {
   "cell_type": "code",
   "execution_count": 6,
   "id": "3cd86fb77f579d1e",
   "metadata": {
    "ExecuteTime": {
     "end_time": "2024-09-30T03:09:46.402318Z",
     "start_time": "2024-09-30T03:09:43.714633Z"
    }
   },
   "outputs": [
    {
     "name": "stdout",
     "output_type": "stream",
     "text": [
      "Requirement already satisfied: pandas in /Users/alexanderbarroso/opt/anaconda3/envs/ml-zoomcamp/lib/python3.9/site-packages (2.2.3)\n",
      "Requirement already satisfied: numpy in /Users/alexanderbarroso/opt/anaconda3/envs/ml-zoomcamp/lib/python3.9/site-packages (2.0.2)\n",
      "Requirement already satisfied: matplotlib in /Users/alexanderbarroso/opt/anaconda3/envs/ml-zoomcamp/lib/python3.9/site-packages (3.9.2)\n",
      "Requirement already satisfied: pytz>=2020.1 in /Users/alexanderbarroso/opt/anaconda3/envs/ml-zoomcamp/lib/python3.9/site-packages (from pandas) (2022.1)\n",
      "Requirement already satisfied: tzdata>=2022.7 in /Users/alexanderbarroso/opt/anaconda3/envs/ml-zoomcamp/lib/python3.9/site-packages (from pandas) (2024.2)\n",
      "Requirement already satisfied: python-dateutil>=2.8.2 in /Users/alexanderbarroso/opt/anaconda3/envs/ml-zoomcamp/lib/python3.9/site-packages (from pandas) (2.8.2)\n",
      "Requirement already satisfied: packaging>=20.0 in /Users/alexanderbarroso/opt/anaconda3/envs/ml-zoomcamp/lib/python3.9/site-packages (from matplotlib) (21.3)\n",
      "Requirement already satisfied: fonttools>=4.22.0 in /Users/alexanderbarroso/opt/anaconda3/envs/ml-zoomcamp/lib/python3.9/site-packages (from matplotlib) (4.25.0)\n",
      "Requirement already satisfied: contourpy>=1.0.1 in /Users/alexanderbarroso/opt/anaconda3/envs/ml-zoomcamp/lib/python3.9/site-packages (from matplotlib) (1.3.0)\n",
      "Requirement already satisfied: kiwisolver>=1.3.1 in /Users/alexanderbarroso/opt/anaconda3/envs/ml-zoomcamp/lib/python3.9/site-packages (from matplotlib) (1.4.2)\n",
      "Requirement already satisfied: pyparsing>=2.3.1 in /Users/alexanderbarroso/opt/anaconda3/envs/ml-zoomcamp/lib/python3.9/site-packages (from matplotlib) (3.0.9)\n",
      "Requirement already satisfied: pillow>=8 in /Users/alexanderbarroso/opt/anaconda3/envs/ml-zoomcamp/lib/python3.9/site-packages (from matplotlib) (9.2.0)\n",
      "Requirement already satisfied: importlib-resources>=3.2.0 in /Users/alexanderbarroso/opt/anaconda3/envs/ml-zoomcamp/lib/python3.9/site-packages (from matplotlib) (6.4.5)\n",
      "Requirement already satisfied: cycler>=0.10 in /Users/alexanderbarroso/opt/anaconda3/envs/ml-zoomcamp/lib/python3.9/site-packages (from matplotlib) (0.11.0)\n",
      "Requirement already satisfied: zipp>=3.1.0 in /Users/alexanderbarroso/opt/anaconda3/envs/ml-zoomcamp/lib/python3.9/site-packages (from importlib-resources>=3.2.0->matplotlib) (3.20.2)\n",
      "Requirement already satisfied: six>=1.5 in /Users/alexanderbarroso/opt/anaconda3/envs/ml-zoomcamp/lib/python3.9/site-packages (from python-dateutil>=2.8.2->pandas) (1.16.0)\n"
     ]
    }
   ],
   "source": [
    "!pip install --upgrade pandas numpy matplotlib\n"
   ]
  },
  {
   "cell_type": "code",
   "execution_count": 28,
   "id": "7df9140457caed5e",
   "metadata": {
    "jupyter": {
     "is_executing": true
    }
   },
   "outputs": [],
   "source": [
    "# Import libraries\n",
    "import pandas as pd\n",
    "import numpy as np\n",
    "import matplotlib.pyplot as plt\n"
   ]
  },
  {
   "cell_type": "markdown",
   "id": "2e44cfe2f556cba1",
   "metadata": {},
   "source": [
    "### Interactive tables\n",
    "\n",
    "Effortlessly view, navigate, sort, and filter data. Create charts and access essential data insights, including descriptive statistics and missing values – all without writing a single line of code."
   ]
  },
  {
   "cell_type": "code",
   "execution_count": 8,
   "id": "initial_id",
   "metadata": {
    "ExecuteTime": {
     "end_time": "2024-09-30T03:12:31.714589Z",
     "start_time": "2024-09-30T03:12:31.695579Z"
    }
   },
   "outputs": [
    {
     "data": {
      "text/html": [
       "<div>\n",
       "<style scoped>\n",
       "    .dataframe tbody tr th:only-of-type {\n",
       "        vertical-align: middle;\n",
       "    }\n",
       "\n",
       "    .dataframe tbody tr th {\n",
       "        vertical-align: top;\n",
       "    }\n",
       "\n",
       "    .dataframe thead th {\n",
       "        text-align: right;\n",
       "    }\n",
       "</style>\n",
       "<table border=\"1\" class=\"dataframe\">\n",
       "  <thead>\n",
       "    <tr style=\"text-align: right;\">\n",
       "      <th></th>\n",
       "      <th>Basket</th>\n",
       "      <th>Apples</th>\n",
       "      <th>Bananas</th>\n",
       "    </tr>\n",
       "  </thead>\n",
       "  <tbody>\n",
       "    <tr>\n",
       "      <th>0</th>\n",
       "      <td>A</td>\n",
       "      <td>10</td>\n",
       "      <td>15</td>\n",
       "    </tr>\n",
       "    <tr>\n",
       "      <th>1</th>\n",
       "      <td>B</td>\n",
       "      <td>20</td>\n",
       "      <td>6</td>\n",
       "    </tr>\n",
       "    <tr>\n",
       "      <th>2</th>\n",
       "      <td>C</td>\n",
       "      <td>30</td>\n",
       "      <td>3</td>\n",
       "    </tr>\n",
       "    <tr>\n",
       "      <th>3</th>\n",
       "      <td>D</td>\n",
       "      <td>56</td>\n",
       "      <td>45</td>\n",
       "    </tr>\n",
       "    <tr>\n",
       "      <th>4</th>\n",
       "      <td>E</td>\n",
       "      <td>40</td>\n",
       "      <td>67</td>\n",
       "    </tr>\n",
       "    <tr>\n",
       "      <th>5</th>\n",
       "      <td>F</td>\n",
       "      <td>40</td>\n",
       "      <td>44</td>\n",
       "    </tr>\n",
       "    <tr>\n",
       "      <th>6</th>\n",
       "      <td>G</td>\n",
       "      <td>67</td>\n",
       "      <td>45</td>\n",
       "    </tr>\n",
       "    <tr>\n",
       "      <th>7</th>\n",
       "      <td>H</td>\n",
       "      <td>47</td>\n",
       "      <td>11</td>\n",
       "    </tr>\n",
       "    <tr>\n",
       "      <th>8</th>\n",
       "      <td>I</td>\n",
       "      <td>40</td>\n",
       "      <td>14</td>\n",
       "    </tr>\n",
       "    <tr>\n",
       "      <th>9</th>\n",
       "      <td>J</td>\n",
       "      <td>4</td>\n",
       "      <td>18</td>\n",
       "    </tr>\n",
       "    <tr>\n",
       "      <th>10</th>\n",
       "      <td>K</td>\n",
       "      <td>49</td>\n",
       "      <td>13</td>\n",
       "    </tr>\n",
       "    <tr>\n",
       "      <th>11</th>\n",
       "      <td>L</td>\n",
       "      <td>52</td>\n",
       "      <td>12</td>\n",
       "    </tr>\n",
       "    <tr>\n",
       "      <th>12</th>\n",
       "      <td>M</td>\n",
       "      <td>5</td>\n",
       "      <td>1</td>\n",
       "    </tr>\n",
       "    <tr>\n",
       "      <th>13</th>\n",
       "      <td>N</td>\n",
       "      <td>56</td>\n",
       "      <td>34</td>\n",
       "    </tr>\n",
       "    <tr>\n",
       "      <th>14</th>\n",
       "      <td>O</td>\n",
       "      <td>35</td>\n",
       "      <td>12</td>\n",
       "    </tr>\n",
       "    <tr>\n",
       "      <th>15</th>\n",
       "      <td>P</td>\n",
       "      <td>45</td>\n",
       "      <td>12</td>\n",
       "    </tr>\n",
       "  </tbody>\n",
       "</table>\n",
       "</div>"
      ],
      "text/plain": [
       "   Basket  Apples  Bananas\n",
       "0       A      10       15\n",
       "1       B      20        6\n",
       "2       C      30        3\n",
       "3       D      56       45\n",
       "4       E      40       67\n",
       "5       F      40       44\n",
       "6       G      67       45\n",
       "7       H      47       11\n",
       "8       I      40       14\n",
       "9       J       4       18\n",
       "10      K      49       13\n",
       "11      L      52       12\n",
       "12      M       5        1\n",
       "13      N      56       34\n",
       "14      O      35       12\n",
       "15      P      45       12"
      ]
     },
     "execution_count": 8,
     "metadata": {},
     "output_type": "execute_result"
    }
   ],
   "source": [
    "# Defining data for the dataframe\n",
    "data = {\n",
    "    'Basket': ['A', 'B', 'C', 'D', 'E', 'F', 'G', 'H', 'I', 'J', 'K', 'L', 'M', 'N', 'O', 'P'],\n",
    "    'Apples': [10, 20, 30, 56, 40, 40, 67, 47, 40, 4, 49, 52, 5, 56, 35, 45],\n",
    "    'Bananas': [15, 6, 3, 45, 67, 44, 45, 11, 14, 18, 13, 12, 1, 34, 12, 12]\n",
    "}\n",
    "\n",
    "# Creating the dataframe\n",
    "df = pd.DataFrame(data)\n",
    "\n",
    "df"
   ]
  },
  {
   "cell_type": "markdown",
   "id": "62a8c026dc794d85",
   "metadata": {},
   "source": [
    "### Visualization in IDE\n",
    "\n",
    "Create graphs and visualizations that match your chosen color scheme."
   ]
  },
  {
   "cell_type": "code",
   "execution_count": 9,
   "id": "e65e58a1b7e04493",
   "metadata": {
    "ExecuteTime": {
     "end_time": "2024-09-30T03:12:36.100954Z",
     "start_time": "2024-09-30T03:12:35.724616Z"
    }
   },
   "outputs": [
    {
     "data": {
      "image/png": "[encoded data removed]",
      "text/plain": [
       "<Figure size 640x480 with 1 Axes>"
      ]
     },
     "metadata": {},
     "output_type": "display_data"
    }
   ],
   "source": [
    "# Calculate the sums\n",
    "sum_apples = df['Apples'].sum()\n",
    "sum_bananas = df['Bananas'].sum()\n",
    "\n",
    "# Create a bar chart\n",
    "plt.bar(['Apples', 'Bananas'], [sum_apples, sum_bananas], color=['red', 'blue'])\n",
    "\n",
    "# Set a title\n",
    "plt.title('Comparison of total Apples and Bananas')\n",
    "\n",
    "# Show the plot\n",
    "plt.show()"
   ]
  },
  {
   "cell_type": "code",
   "execution_count": 10,
   "id": "53ccbe736ed562e7",
   "metadata": {
    "ExecuteTime": {
     "end_time": "2024-09-30T03:12:39.508407Z",
     "start_time": "2024-09-30T03:12:39.504567Z"
    }
   },
   "outputs": [
    {
     "data": {
      "text/plain": [
       "'1.5.3'"
      ]
     },
     "execution_count": 10,
     "metadata": {},
     "output_type": "execute_result"
    }
   ],
   "source": [
    "pd.__version__"
   ]
  },
  {
   "cell_type": "code",
   "execution_count": 11,
   "id": "9a5091f882631a85",
   "metadata": {
    "ExecuteTime": {
     "end_time": "2024-09-19T04:41:51.777823Z",
     "start_time": "2024-09-19T04:41:50.238451Z"
    }
   },
   "outputs": [
    {
     "name": "stdout",
     "output_type": "stream",
     "text": [
      "--2024-09-29 22:23:55--  https://raw.githubusercontent.com/alexeygrigorev/datasets/master/laptops.csv\n",
      "Resolving raw.githubusercontent.com (raw.githubusercontent.com)... 185.199.110.133, 185.199.111.133, 185.199.108.133, ...\n",
      "Connecting to raw.githubusercontent.com (raw.githubusercontent.com)|185.199.110.133|:443... connected.\n",
      "HTTP request sent, awaiting response... 200 OK\n",
      "Length: 298573 (292K) [text/plain]\n",
      "Saving to: ‘laptops.csv.1’\n",
      "\n",
      "laptops.csv.1       100%[===================>] 291.58K  1.67MB/s    in 0.2s    \n",
      "\n",
      "2024-09-29 22:23:55 (1.67 MB/s) - ‘laptops.csv.1’ saved [298573/298573]\n",
      "\n"
     ]
    }
   ],
   "source": [
    "!wget https://raw.githubusercontent.com/alexeygrigorev/datasets/master/laptops.csv"
   ]
  },
  {
   "cell_type": "code",
   "execution_count": 12,
   "id": "30a5009030d2bcb6",
   "metadata": {
    "ExecuteTime": {
     "end_time": "2024-09-30T02:49:38.115783Z",
     "start_time": "2024-09-19T04:43:48.344286Z"
    }
   },
   "outputs": [
    {
     "data": {
      "text/plain": [
       "2160"
      ]
     },
     "execution_count": 12,
     "metadata": {},
     "output_type": "execute_result"
    }
   ],
   "source": [
    "df = pd.read_csv('laptops.csv')\n",
    "len(df)"
   ]
  },
  {
   "cell_type": "code",
   "execution_count": 13,
   "id": "779a4043799c0df",
   "metadata": {
    "ExecuteTime": {
     "end_time": "2024-09-19T04:44:30.412238Z",
     "start_time": "2024-09-19T04:44:30.385499Z"
    }
   },
   "outputs": [
    {
     "data": {
      "text/html": [
       "<div>\n",
       "<style scoped>\n",
       "    .dataframe tbody tr th:only-of-type {\n",
       "        vertical-align: middle;\n",
       "    }\n",
       "\n",
       "    .dataframe tbody tr th {\n",
       "        vertical-align: top;\n",
       "    }\n",
       "\n",
       "    .dataframe thead th {\n",
       "        text-align: right;\n",
       "    }\n",
       "</style>\n",
       "<table border=\"1\" class=\"dataframe\">\n",
       "  <thead>\n",
       "    <tr style=\"text-align: right;\">\n",
       "      <th></th>\n",
       "      <th>Laptop</th>\n",
       "      <th>Status</th>\n",
       "      <th>Brand</th>\n",
       "      <th>Model</th>\n",
       "      <th>CPU</th>\n",
       "      <th>RAM</th>\n",
       "      <th>Storage</th>\n",
       "      <th>Storage type</th>\n",
       "      <th>GPU</th>\n",
       "      <th>Screen</th>\n",
       "      <th>Touch</th>\n",
       "      <th>Final Price</th>\n",
       "    </tr>\n",
       "  </thead>\n",
       "  <tbody>\n",
       "    <tr>\n",
       "      <th>0</th>\n",
       "      <td>ASUS ExpertBook B1 B1502CBA-EJ0436X Intel Core...</td>\n",
       "      <td>New</td>\n",
       "      <td>Asus</td>\n",
       "      <td>ExpertBook</td>\n",
       "      <td>Intel Core i5</td>\n",
       "      <td>8</td>\n",
       "      <td>512</td>\n",
       "      <td>SSD</td>\n",
       "      <td>NaN</td>\n",
       "      <td>15.6</td>\n",
       "      <td>No</td>\n",
       "      <td>1009.00</td>\n",
       "    </tr>\n",
       "    <tr>\n",
       "      <th>1</th>\n",
       "      <td>Alurin Go Start Intel Celeron N4020/8GB/256GB ...</td>\n",
       "      <td>New</td>\n",
       "      <td>Alurin</td>\n",
       "      <td>Go</td>\n",
       "      <td>Intel Celeron</td>\n",
       "      <td>8</td>\n",
       "      <td>256</td>\n",
       "      <td>SSD</td>\n",
       "      <td>NaN</td>\n",
       "      <td>15.6</td>\n",
       "      <td>No</td>\n",
       "      <td>299.00</td>\n",
       "    </tr>\n",
       "    <tr>\n",
       "      <th>2</th>\n",
       "      <td>ASUS ExpertBook B1 B1502CBA-EJ0424X Intel Core...</td>\n",
       "      <td>New</td>\n",
       "      <td>Asus</td>\n",
       "      <td>ExpertBook</td>\n",
       "      <td>Intel Core i3</td>\n",
       "      <td>8</td>\n",
       "      <td>256</td>\n",
       "      <td>SSD</td>\n",
       "      <td>NaN</td>\n",
       "      <td>15.6</td>\n",
       "      <td>No</td>\n",
       "      <td>789.00</td>\n",
       "    </tr>\n",
       "    <tr>\n",
       "      <th>3</th>\n",
       "      <td>MSI Katana GF66 12UC-082XES Intel Core i7-1270...</td>\n",
       "      <td>New</td>\n",
       "      <td>MSI</td>\n",
       "      <td>Katana</td>\n",
       "      <td>Intel Core i7</td>\n",
       "      <td>16</td>\n",
       "      <td>1000</td>\n",
       "      <td>SSD</td>\n",
       "      <td>RTX 3050</td>\n",
       "      <td>15.6</td>\n",
       "      <td>No</td>\n",
       "      <td>1199.00</td>\n",
       "    </tr>\n",
       "    <tr>\n",
       "      <th>4</th>\n",
       "      <td>HP 15S-FQ5085NS Intel Core i5-1235U/16GB/512GB...</td>\n",
       "      <td>New</td>\n",
       "      <td>HP</td>\n",
       "      <td>15S</td>\n",
       "      <td>Intel Core i5</td>\n",
       "      <td>16</td>\n",
       "      <td>512</td>\n",
       "      <td>SSD</td>\n",
       "      <td>NaN</td>\n",
       "      <td>15.6</td>\n",
       "      <td>No</td>\n",
       "      <td>669.01</td>\n",
       "    </tr>\n",
       "  </tbody>\n",
       "</table>\n",
       "</div>"
      ],
      "text/plain": [
       "                                              Laptop Status   Brand  \\\n",
       "0  ASUS ExpertBook B1 B1502CBA-EJ0436X Intel Core...    New    Asus   \n",
       "1  Alurin Go Start Intel Celeron N4020/8GB/256GB ...    New  Alurin   \n",
       "2  ASUS ExpertBook B1 B1502CBA-EJ0424X Intel Core...    New    Asus   \n",
       "3  MSI Katana GF66 12UC-082XES Intel Core i7-1270...    New     MSI   \n",
       "4  HP 15S-FQ5085NS Intel Core i5-1235U/16GB/512GB...    New      HP   \n",
       "\n",
       "        Model            CPU  RAM  Storage Storage type       GPU  Screen  \\\n",
       "0  ExpertBook  Intel Core i5    8      512          SSD       NaN    15.6   \n",
       "1          Go  Intel Celeron    8      256          SSD       NaN    15.6   \n",
       "2  ExpertBook  Intel Core i3    8      256          SSD       NaN    15.6   \n",
       "3      Katana  Intel Core i7   16     1000          SSD  RTX 3050    15.6   \n",
       "4         15S  Intel Core i5   16      512          SSD       NaN    15.6   \n",
       "\n",
       "  Touch  Final Price  \n",
       "0    No      1009.00  \n",
       "1    No       299.00  \n",
       "2    No       789.00  \n",
       "3    No      1199.00  \n",
       "4    No       669.01  "
      ]
     },
     "execution_count": 13,
     "metadata": {},
     "output_type": "execute_result"
    }
   ],
   "source": [
    "df.head()"
   ]
  },
  {
   "cell_type": "code",
   "execution_count": 14,
   "id": "941c1f8114985cb0",
   "metadata": {
    "ExecuteTime": {
     "end_time": "2024-09-19T04:45:36.173109Z",
     "start_time": "2024-09-19T04:45:36.157388Z"
    }
   },
   "outputs": [
    {
     "data": {
      "text/plain": [
       "Laptop             0\n",
       "Status             0\n",
       "Brand              0\n",
       "Model              0\n",
       "CPU                0\n",
       "RAM                0\n",
       "Storage            0\n",
       "Storage type      42\n",
       "GPU             1371\n",
       "Screen             4\n",
       "Touch              0\n",
       "Final Price        0\n",
       "dtype: int64"
      ]
     },
     "execution_count": 14,
     "metadata": {},
     "output_type": "execute_result"
    }
   ],
   "source": [
    "df.isnull().sum()"
   ]
  },
  {
   "cell_type": "code",
   "execution_count": 16,
   "id": "e6d21c4fe6ef96fb",
   "metadata": {
    "ExecuteTime": {
     "end_time": "2024-09-30T02:49:38.102950Z",
     "start_time": "2024-09-30T02:49:37.758257Z"
    }
   },
   "outputs": [
    {
     "data": {
      "text/plain": [
       "2160"
      ]
     },
     "execution_count": 16,
     "metadata": {},
     "output_type": "execute_result"
    }
   ],
   "source": [
    "len(df)"
   ]
  },
  {
   "cell_type": "code",
   "execution_count": 20,
   "id": "e370f0e0",
   "metadata": {},
   "outputs": [
    {
     "name": "stdout",
     "output_type": "stream",
     "text": [
      "                  Laptop  Status  Model  CPU  RAM  Storage  Storage type  GPU  \\\n",
      "Brand                                                                           \n",
      "Acer                 137     137    137  137  137      137           137   51   \n",
      "Alurin                29      29     29   29   29       29            25    0   \n",
      "Apple                116     116    116  116  116      116           105    9   \n",
      "Asus                 415     415    415  415  415      415           409  168   \n",
      "Deep Gaming            8       8      8    8    8        8             8    8   \n",
      "Dell                  84      84     84   84   84       84            84    6   \n",
      "Denver                 1       1      1    1    1        1             1    0   \n",
      "Dynabook Toshiba      19      19     19   19   19       19            19    0   \n",
      "Gigabyte              48      48     48   48   48       48            48   46   \n",
      "HP                   368     368    368  368  368      368           361   87   \n",
      "Innjoo                 6       6      6    6    6        6             6    0   \n",
      "Jetwing                1       1      1    1    1        1             1    0   \n",
      "LG                    32      32     32   32   32       32            32    7   \n",
      "Lenovo               366     366    366  366  366      366           363   74   \n",
      "MSI                  308     308    308  308  308      308           308  256   \n",
      "Medion                32      32     32   32   32       32            30   10   \n",
      "Microsoft             77      77     77   77   77       77            74    4   \n",
      "Millenium              2       2      2    2    2        2             2    2   \n",
      "PcCom                 24      24     24   24   24       24            22   24   \n",
      "Primux                 8       8      8    8    8        8             8    0   \n",
      "Prixton                3       3      3    3    3        3             1    0   \n",
      "Razer                 37      37     37   37   37       37            37   35   \n",
      "Realme                 1       1      1    1    1        1             1    0   \n",
      "Samsung               22      22     22   22   22       22            21    2   \n",
      "Thomson                4       4      4    4    4        4             3    0   \n",
      "Toshiba                1       1      1    1    1        1             1    0   \n",
      "Vant                  11      11     11   11   11       11            11    0   \n",
      "\n",
      "                  Screen  Touch  Final Price  \n",
      "Brand                                         \n",
      "Acer                 136    137          137  \n",
      "Alurin                29     29           29  \n",
      "Apple                116    116          116  \n",
      "Asus                 415    415          415  \n",
      "Deep Gaming            8      8            8  \n",
      "Dell                  84     84           84  \n",
      "Denver                 1      1            1  \n",
      "Dynabook Toshiba      19     19           19  \n",
      "Gigabyte              48     48           48  \n",
      "HP                   367    368          368  \n",
      "Innjoo                 6      6            6  \n",
      "Jetwing                1      1            1  \n",
      "LG                    32     32           32  \n",
      "Lenovo               364    366          366  \n",
      "MSI                  308    308          308  \n",
      "Medion                32     32           32  \n",
      "Microsoft             77     77           77  \n",
      "Millenium              2      2            2  \n",
      "PcCom                 24     24           24  \n",
      "Primux                 8      8            8  \n",
      "Prixton                3      3            3  \n",
      "Razer                 37     37           37  \n",
      "Realme                 1      1            1  \n",
      "Samsung               22     22           22  \n",
      "Thomson                4      4            4  \n",
      "Toshiba                1      1            1  \n",
      "Vant                  11     11           11  \n"
     ]
    }
   ],
   "source": [
    "print(df.groupby([\"Brand\"]).count())"
   ]
  },
  {
   "cell_type": "code",
   "execution_count": 22,
   "id": "9ac26da8",
   "metadata": {},
   "outputs": [
    {
     "name": "stdout",
     "output_type": "stream",
     "text": [
      "3\n"
     ]
    }
   ],
   "source": [
    "print(df.isnull().any().sum())"
   ]
  },
  {
   "cell_type": "code",
   "execution_count": 23,
   "id": "89bbdcad",
   "metadata": {},
   "outputs": [
    {
     "name": "stdout",
     "output_type": "stream",
     "text": [
      "Index(['Storage type', 'GPU', 'Screen'], dtype='object')\n"
     ]
    }
   ],
   "source": [
    "print(df.columns[df.isnull().any()])"
   ]
  },
  {
   "cell_type": "code",
   "execution_count": 24,
   "id": "58789ca0",
   "metadata": {},
   "outputs": [
    {
     "name": "stdout",
     "output_type": "stream",
     "text": [
      "3936.0\n"
     ]
    }
   ],
   "source": [
    "print(df[df['Brand'] == 'Dell']['Final Price'].max())"
   ]
  },
  {
   "cell_type": "code",
   "execution_count": 34,
   "id": "57479c71",
   "metadata": {},
   "outputs": [
    {
     "name": "stdout",
     "output_type": "stream",
     "text": [
      "15.6\n"
     ]
    }
   ],
   "source": [
    "initial_median = df['Screen'].median()\n",
    "print(initial_median)"
   ]
  },
  {
   "cell_type": "code",
   "execution_count": 35,
   "id": "96fda60d",
   "metadata": {},
   "outputs": [
    {
     "name": "stdout",
     "output_type": "stream",
     "text": [
      "15.6\n"
     ]
    }
   ],
   "source": [
    "most_frequent_value = df['Screen'].mode()[0]\n",
    "print(most_frequent_value)"
   ]
  },
  {
   "cell_type": "code",
   "execution_count": 36,
   "id": "804872c1",
   "metadata": {},
   "outputs": [],
   "source": [
    "df['Screen'].fillna(most_frequent_value, inplace=True)"
   ]
  },
  {
   "cell_type": "code",
   "execution_count": 37,
   "id": "3dbb4bd8",
   "metadata": {},
   "outputs": [
    {
     "name": "stdout",
     "output_type": "stream",
     "text": [
      "15.6\n"
     ]
    }
   ],
   "source": [
    "new_median = df['Screen'].median()\n",
    "print(new_median)"
   ]
  },
  {
   "cell_type": "code",
   "execution_count": 38,
   "id": "9a1433a3",
   "metadata": {},
   "outputs": [
    {
     "name": "stdout",
     "output_type": "stream",
     "text": [
      "False\n"
     ]
    }
   ],
   "source": [
    "has_changed = initial_median != new_median\n",
    "print(has_changed)"
   ]
  },
  {
   "cell_type": "code",
   "execution_count": 25,
   "id": "52fb7fa9",
   "metadata": {},
   "outputs": [],
   "source": [
    "innjoo_laptops = df[df['Brand'] == 'Innjoo']"
   ]
  },
  {
   "cell_type": "code",
   "execution_count": 26,
   "id": "4040710e",
   "metadata": {},
   "outputs": [],
   "source": [
    "X = innjoo_laptops[['RAM', 'Storage', 'Screen']].to_numpy()"
   ]
  },
  {
   "cell_type": "code",
   "execution_count": 29,
   "id": "9517ff27",
   "metadata": {},
   "outputs": [],
   "source": [
    "XTX = np.dot(X.T, X)"
   ]
  },
  {
   "cell_type": "code",
   "execution_count": 30,
   "id": "5cc173dd",
   "metadata": {},
   "outputs": [],
   "source": [
    "XTX_inv = np.linalg.inv(XTX)"
   ]
  },
  {
   "cell_type": "code",
   "execution_count": 31,
   "id": "a0ab38ee",
   "metadata": {},
   "outputs": [],
   "source": [
    "y = np.array([1100, 1300, 800, 900, 1000, 1100])"
   ]
  },
  {
   "cell_type": "code",
   "execution_count": 32,
   "id": "7504960b",
   "metadata": {},
   "outputs": [],
   "source": [
    "w = np.dot(XTX_inv, np.dot(X.T, y))"
   ]
  },
  {
   "cell_type": "code",
   "execution_count": 33,
   "id": "0db61590",
   "metadata": {},
   "outputs": [
    {
     "name": "stdout",
     "output_type": "stream",
     "text": [
      "91.29988062995545\n"
     ]
    }
   ],
   "source": [
    "print(np.sum(w))"
   ]
  }
 ],
 "metadata": {
  "kernelspec": {
   "display_name": "Python 3 (ipykernel)",
   "language": "python",
   "name": "python3"
  },
  "language_info": {
   "codemirror_mode": {
    "name": "ipython",
    "version": 3
   },
   "file_extension": ".py",
   "mimetype": "text/x-python",
   "name": "python",
   "nbconvert_exporter": "python",
   "pygments_lexer": "ipython3",
   "version": "3.9.13"
  }
 },
 "nbformat": 4,
 "nbformat_minor": 5
}
