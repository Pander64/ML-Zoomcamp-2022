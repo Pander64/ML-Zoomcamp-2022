{
 "cells": [
  {
   "cell_type": "code",
   "execution_count": 2,
   "metadata": {},
   "outputs": [],
   "source": [
    "# Import libraries\n",
    "import pandas as pd\n",
    "import numpy as np\n",
    "import matplotlib.pyplot as pltactivate "
   ]
  },
  {
   "cell_type": "code",
   "execution_count": 3,
   "metadata": {},
   "outputs": [
    {
     "data": {
      "text/plain": [
       "'2.0.3'"
      ]
     },
     "execution_count": 3,
     "metadata": {},
     "output_type": "execute_result"
    }
   ],
   "source": [
    "pd.__version__"
   ]
  },
  {
   "cell_type": "code",
   "execution_count": 5,
   "metadata": {},
   "outputs": [
    {
     "name": "stdout",
     "output_type": "stream",
     "text": [
      "--2024-09-29 23:17:45--  https://raw.githubusercontent.com/alexeygrigorev/datasets/master/laptops.csv\n",
      "Resolving raw.githubusercontent.com (raw.githubusercontent.com)... 185.199.108.133, 185.199.109.133, 185.199.110.133, ...\n",
      "Connecting to raw.githubusercontent.com (raw.githubusercontent.com)|185.199.108.133|:443... connected.\n",
      "HTTP request sent, awaiting response... 200 OK\n",
      "Length: 298573 (292K) [text/plain]\n",
      "Saving to: ‘laptops.csv’\n",
      "\n",
      "laptops.csv         100%[===================>] 291.58K  1.57MB/s    in 0.2s    \n",
      "\n",
      "2024-09-29 23:17:46 (1.57 MB/s) - ‘laptops.csv’ saved [298573/298573]\n",
      "\n"
     ]
    }
   ],
   "source": [
    "!wget https://raw.githubusercontent.com/alexeygrigorev/datasets/master/laptops.csv"
   ]
  },
  {
   "cell_type": "code",
   "execution_count": 6,
   "metadata": {},
   "outputs": [
    {
     "data": {
      "text/plain": [
       "2160"
      ]
     },
     "execution_count": 6,
     "metadata": {},
     "output_type": "execute_result"
    }
   ],
   "source": [
    "df = pd.read_csv('laptops.csv')\n",
    "len(df)"
   ]
  },
  {
   "cell_type": "code",
   "execution_count": 7,
   "metadata": {},
   "outputs": [
    {
     "data": {
      "text/html": [
       "<div>\n",
       "<style scoped>\n",
       "    .dataframe tbody tr th:only-of-type {\n",
       "        vertical-align: middle;\n",
       "    }\n",
       "\n",
       "    .dataframe tbody tr th {\n",
       "        vertical-align: top;\n",
       "    }\n",
       "\n",
       "    .dataframe thead th {\n",
       "        text-align: right;\n",
       "    }\n",
       "</style>\n",
       "<table border=\"1\" class=\"dataframe\">\n",
       "  <thead>\n",
       "    <tr style=\"text-align: right;\">\n",
       "      <th></th>\n",
       "      <th>Laptop</th>\n",
       "      <th>Status</th>\n",
       "      <th>Brand</th>\n",
       "      <th>Model</th>\n",
       "      <th>CPU</th>\n",
       "      <th>RAM</th>\n",
       "      <th>Storage</th>\n",
       "      <th>Storage type</th>\n",
       "      <th>GPU</th>\n",
       "      <th>Screen</th>\n",
       "      <th>Touch</th>\n",
       "      <th>Final Price</th>\n",
       "    </tr>\n",
       "  </thead>\n",
       "  <tbody>\n",
       "    <tr>\n",
       "      <th>0</th>\n",
       "      <td>ASUS ExpertBook B1 B1502CBA-EJ0436X Intel Core...</td>\n",
       "      <td>New</td>\n",
       "      <td>Asus</td>\n",
       "      <td>ExpertBook</td>\n",
       "      <td>Intel Core i5</td>\n",
       "      <td>8</td>\n",
       "      <td>512</td>\n",
       "      <td>SSD</td>\n",
       "      <td>NaN</td>\n",
       "      <td>15.6</td>\n",
       "      <td>No</td>\n",
       "      <td>1009.00</td>\n",
       "    </tr>\n",
       "    <tr>\n",
       "      <th>1</th>\n",
       "      <td>Alurin Go Start Intel Celeron N4020/8GB/256GB ...</td>\n",
       "      <td>New</td>\n",
       "      <td>Alurin</td>\n",
       "      <td>Go</td>\n",
       "      <td>Intel Celeron</td>\n",
       "      <td>8</td>\n",
       "      <td>256</td>\n",
       "      <td>SSD</td>\n",
       "      <td>NaN</td>\n",
       "      <td>15.6</td>\n",
       "      <td>No</td>\n",
       "      <td>299.00</td>\n",
       "    </tr>\n",
       "    <tr>\n",
       "      <th>2</th>\n",
       "      <td>ASUS ExpertBook B1 B1502CBA-EJ0424X Intel Core...</td>\n",
       "      <td>New</td>\n",
       "      <td>Asus</td>\n",
       "      <td>ExpertBook</td>\n",
       "      <td>Intel Core i3</td>\n",
       "      <td>8</td>\n",
       "      <td>256</td>\n",
       "      <td>SSD</td>\n",
       "      <td>NaN</td>\n",
       "      <td>15.6</td>\n",
       "      <td>No</td>\n",
       "      <td>789.00</td>\n",
       "    </tr>\n",
       "    <tr>\n",
       "      <th>3</th>\n",
       "      <td>MSI Katana GF66 12UC-082XES Intel Core i7-1270...</td>\n",
       "      <td>New</td>\n",
       "      <td>MSI</td>\n",
       "      <td>Katana</td>\n",
       "      <td>Intel Core i7</td>\n",
       "      <td>16</td>\n",
       "      <td>1000</td>\n",
       "      <td>SSD</td>\n",
       "      <td>RTX 3050</td>\n",
       "      <td>15.6</td>\n",
       "      <td>No</td>\n",
       "      <td>1199.00</td>\n",
       "    </tr>\n",
       "    <tr>\n",
       "      <th>4</th>\n",
       "      <td>HP 15S-FQ5085NS Intel Core i5-1235U/16GB/512GB...</td>\n",
       "      <td>New</td>\n",
       "      <td>HP</td>\n",
       "      <td>15S</td>\n",
       "      <td>Intel Core i5</td>\n",
       "      <td>16</td>\n",
       "      <td>512</td>\n",
       "      <td>SSD</td>\n",
       "      <td>NaN</td>\n",
       "      <td>15.6</td>\n",
       "      <td>No</td>\n",
       "      <td>669.01</td>\n",
       "    </tr>\n",
       "  </tbody>\n",
       "</table>\n",
       "</div>"
      ],
      "text/plain": [
       "                                              Laptop Status   Brand  \\\n",
       "0  ASUS ExpertBook B1 B1502CBA-EJ0436X Intel Core...    New    Asus   \n",
       "1  Alurin Go Start Intel Celeron N4020/8GB/256GB ...    New  Alurin   \n",
       "2  ASUS ExpertBook B1 B1502CBA-EJ0424X Intel Core...    New    Asus   \n",
       "3  MSI Katana GF66 12UC-082XES Intel Core i7-1270...    New     MSI   \n",
       "4  HP 15S-FQ5085NS Intel Core i5-1235U/16GB/512GB...    New      HP   \n",
       "\n",
       "        Model            CPU  RAM  Storage Storage type       GPU  Screen  \\\n",
       "0  ExpertBook  Intel Core i5    8      512          SSD       NaN    15.6   \n",
       "1          Go  Intel Celeron    8      256          SSD       NaN    15.6   \n",
       "2  ExpertBook  Intel Core i3    8      256          SSD       NaN    15.6   \n",
       "3      Katana  Intel Core i7   16     1000          SSD  RTX 3050    15.6   \n",
       "4         15S  Intel Core i5   16      512          SSD       NaN    15.6   \n",
       "\n",
       "  Touch  Final Price  \n",
       "0    No      1009.00  \n",
       "1    No       299.00  \n",
       "2    No       789.00  \n",
       "3    No      1199.00  \n",
       "4    No       669.01  "
      ]
     },
     "execution_count": 7,
     "metadata": {},
     "output_type": "execute_result"
    }
   ],
   "source": [
    "df.head()"
   ]
  },
  {
   "cell_type": "code",
   "execution_count": 8,
   "metadata": {},
   "outputs": [
    {
     "data": {
      "text/plain": [
       "Laptop             0\n",
       "Status             0\n",
       "Brand              0\n",
       "Model              0\n",
       "CPU                0\n",
       "RAM                0\n",
       "Storage            0\n",
       "Storage type      42\n",
       "GPU             1371\n",
       "Screen             4\n",
       "Touch              0\n",
       "Final Price        0\n",
       "dtype: int64"
      ]
     },
     "execution_count": 8,
     "metadata": {},
     "output_type": "execute_result"
    }
   ],
   "source": [
    "df.isnull().sum()"
   ]
  },
  {
   "cell_type": "code",
   "execution_count": 9,
   "metadata": {},
   "outputs": [
    {
     "data": {
      "text/plain": [
       "2160"
      ]
     },
     "execution_count": 9,
     "metadata": {},
     "output_type": "execute_result"
    }
   ],
   "source": [
    "len(df)"
   ]
  },
  {
   "cell_type": "code",
   "execution_count": 10,
   "metadata": {},
   "outputs": [
    {
     "name": "stdout",
     "output_type": "stream",
     "text": [
      "                  Laptop  Status  Model  CPU  RAM  Storage  Storage type  GPU  \\\n",
      "Brand                                                                           \n",
      "Acer                 137     137    137  137  137      137           137   51   \n",
      "Alurin                29      29     29   29   29       29            25    0   \n",
      "Apple                116     116    116  116  116      116           105    9   \n",
      "Asus                 415     415    415  415  415      415           409  168   \n",
      "Deep Gaming            8       8      8    8    8        8             8    8   \n",
      "Dell                  84      84     84   84   84       84            84    6   \n",
      "Denver                 1       1      1    1    1        1             1    0   \n",
      "Dynabook Toshiba      19      19     19   19   19       19            19    0   \n",
      "Gigabyte              48      48     48   48   48       48            48   46   \n",
      "HP                   368     368    368  368  368      368           361   87   \n",
      "Innjoo                 6       6      6    6    6        6             6    0   \n",
      "Jetwing                1       1      1    1    1        1             1    0   \n",
      "LG                    32      32     32   32   32       32            32    7   \n",
      "Lenovo               366     366    366  366  366      366           363   74   \n",
      "MSI                  308     308    308  308  308      308           308  256   \n",
      "Medion                32      32     32   32   32       32            30   10   \n",
      "Microsoft             77      77     77   77   77       77            74    4   \n",
      "Millenium              2       2      2    2    2        2             2    2   \n",
      "PcCom                 24      24     24   24   24       24            22   24   \n",
      "Primux                 8       8      8    8    8        8             8    0   \n",
      "Prixton                3       3      3    3    3        3             1    0   \n",
      "Razer                 37      37     37   37   37       37            37   35   \n",
      "Realme                 1       1      1    1    1        1             1    0   \n",
      "Samsung               22      22     22   22   22       22            21    2   \n",
      "Thomson                4       4      4    4    4        4             3    0   \n",
      "Toshiba                1       1      1    1    1        1             1    0   \n",
      "Vant                  11      11     11   11   11       11            11    0   \n",
      "\n",
      "                  Screen  Touch  Final Price  \n",
      "Brand                                         \n",
      "Acer                 136    137          137  \n",
      "Alurin                29     29           29  \n",
      "Apple                116    116          116  \n",
      "Asus                 415    415          415  \n",
      "Deep Gaming            8      8            8  \n",
      "Dell                  84     84           84  \n",
      "Denver                 1      1            1  \n",
      "Dynabook Toshiba      19     19           19  \n",
      "Gigabyte              48     48           48  \n",
      "HP                   367    368          368  \n",
      "Innjoo                 6      6            6  \n",
      "Jetwing                1      1            1  \n",
      "LG                    32     32           32  \n",
      "Lenovo               364    366          366  \n",
      "MSI                  308    308          308  \n",
      "Medion                32     32           32  \n",
      "Microsoft             77     77           77  \n",
      "Millenium              2      2            2  \n",
      "PcCom                 24     24           24  \n",
      "Primux                 8      8            8  \n",
      "Prixton                3      3            3  \n",
      "Razer                 37     37           37  \n",
      "Realme                 1      1            1  \n",
      "Samsung               22     22           22  \n",
      "Thomson                4      4            4  \n",
      "Toshiba                1      1            1  \n",
      "Vant                  11     11           11  \n"
     ]
    }
   ],
   "source": [
    "print(df.groupby([\"Brand\"]).count())"
   ]
  },
  {
   "cell_type": "code",
   "execution_count": 11,
   "metadata": {},
   "outputs": [
    {
     "name": "stdout",
     "output_type": "stream",
     "text": [
      "3\n"
     ]
    }
   ],
   "source": [
    "print(df.isnull().any().sum())"
   ]
  },
  {
   "cell_type": "code",
   "execution_count": 12,
   "metadata": {},
   "outputs": [
    {
     "name": "stdout",
     "output_type": "stream",
     "text": [
      "Index(['Storage type', 'GPU', 'Screen'], dtype='object')\n"
     ]
    }
   ],
   "source": [
    "print(df.columns[df.isnull().any()])"
   ]
  },
  {
   "cell_type": "code",
   "execution_count": 13,
   "metadata": {},
   "outputs": [
    {
     "name": "stdout",
     "output_type": "stream",
     "text": [
      "3936.0\n"
     ]
    }
   ],
   "source": [
    "print(df[df['Brand'] == 'Dell']['Final Price'].max())"
   ]
  },
  {
   "cell_type": "code",
   "execution_count": 14,
   "metadata": {},
   "outputs": [
    {
     "name": "stdout",
     "output_type": "stream",
     "text": [
      "15.6\n"
     ]
    }
   ],
   "source": [
    "initial_median = df['Screen'].median()\n",
    "print(initial_median)"
   ]
  },
  {
   "cell_type": "code",
   "execution_count": 15,
   "metadata": {},
   "outputs": [
    {
     "name": "stdout",
     "output_type": "stream",
     "text": [
      "15.6\n"
     ]
    }
   ],
   "source": [
    "most_frequent_value = df['Screen'].mode()[0]\n",
    "print(most_frequent_value)"
   ]
  },
  {
   "cell_type": "code",
   "execution_count": 16,
   "metadata": {},
   "outputs": [],
   "source": [
    "df['Screen'].fillna(most_frequent_value, inplace=True)"
   ]
  },
  {
   "cell_type": "code",
   "execution_count": 17,
   "metadata": {},
   "outputs": [
    {
     "name": "stdout",
     "output_type": "stream",
     "text": [
      "15.6\n"
     ]
    }
   ],
   "source": [
    "new_median = df['Screen'].median()\n",
    "print(new_median)"
   ]
  },
  {
   "cell_type": "code",
   "execution_count": 18,
   "metadata": {},
   "outputs": [
    {
     "name": "stdout",
     "output_type": "stream",
     "text": [
      "False\n"
     ]
    }
   ],
   "source": [
    "has_changed = initial_median != new_median\n",
    "print(has_changed)"
   ]
  },
  {
   "cell_type": "code",
   "execution_count": 19,
   "metadata": {},
   "outputs": [],
   "source": [
    "innjoo_laptops = df[df['Brand'] == 'Innjoo']"
   ]
  },
  {
   "cell_type": "code",
   "execution_count": 20,
   "metadata": {},
   "outputs": [],
   "source": [
    "X = innjoo_laptops[['RAM', 'Storage', 'Screen']].to_numpy()"
   ]
  },
  {
   "cell_type": "code",
   "execution_count": 21,
   "metadata": {},
   "outputs": [],
   "source": [
    "XTX = np.dot(X.T, X)"
   ]
  },
  {
   "cell_type": "code",
   "execution_count": 22,
   "metadata": {},
   "outputs": [],
   "source": [
    "XTX_inv = np.linalg.inv(XTX)"
   ]
  },
  {
   "cell_type": "code",
   "execution_count": 23,
   "metadata": {},
   "outputs": [],
   "source": [
    "y = np.array([1100, 1300, 800, 900, 1000, 1100])"
   ]
  },
  {
   "cell_type": "code",
   "execution_count": 24,
   "metadata": {},
   "outputs": [],
   "source": [
    "w = np.dot(XTX_inv, np.dot(X.T, y))"
   ]
  },
  {
   "cell_type": "code",
   "execution_count": 25,
   "metadata": {},
   "outputs": [
    {
     "name": "stdout",
     "output_type": "stream",
     "text": [
      "91.29988062995636\n"
     ]
    }
   ],
   "source": [
    "print(np.sum(w))"
   ]
  },
  {
   "cell_type": "code",
   "execution_count": null,
   "metadata": {},
   "outputs": [],
   "source": []
  }
 ],
 "metadata": {
  "kernelspec": {
   "display_name": "Python 3 (ipykernel)",
   "language": "python",
   "name": "python3"
  },
  "language_info": {
   "codemirror_mode": {
    "name": "ipython",
    "version": 3
   },
   "file_extension": ".py",
   "mimetype": "text/x-python",
   "name": "python",
   "nbconvert_exporter": "python",
   "pygments_lexer": "ipython3",
   "version": "3.8.19"
  }
 },
 "nbformat": 4,
 "nbformat_minor": 4
}
